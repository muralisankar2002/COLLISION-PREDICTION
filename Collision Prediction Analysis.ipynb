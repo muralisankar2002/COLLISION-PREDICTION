{
    "cells": [
        {
            "cell_type": "markdown",
            "metadata": {
                "collapsed": true
            },
            "source": "# COLLISION PREDICTION ANALYSIS"
        },
        {
            "cell_type": "markdown",
            "metadata": {},
            "source": "## This is a Final Capstone Project of Data Science Course. The project aims to develop a model to predict collision by using Machine Learing algorithms. "
        },
        {
            "cell_type": "code",
            "execution_count": 1,
            "metadata": {},
            "outputs": [],
            "source": "import pandas as pd\nimport numpy as np"
        },
        {
            "cell_type": "code",
            "execution_count": 2,
            "metadata": {},
            "outputs": [
                {
                    "name": "stdout",
                    "output_type": "stream",
                    "text": "Hello Capstone project course.\n"
                }
            ],
            "source": "print('Hello Capstone project course.')"
        },
        {
            "cell_type": "markdown",
            "metadata": {},
            "source": "## Introduction/Business Problem"
        },
        {
            "cell_type": "markdown",
            "metadata": {},
            "source": "The project aims at  prediction of collision in Seattle area by using  supervised learning and  develop a model to predict the severity of an accident for given attributes like weather, road conditions etc. The stakeholder can alert the driver by prediction of collision and reduce the severity of collision or avoid the collision."
        },
        {
            "cell_type": "markdown",
            "metadata": {},
            "source": "## Data Understanding"
        },
        {
            "cell_type": "markdown",
            "metadata": {},
            "source": "In this project, we will use  the data provided by the SPD about accidents occurred in Seattle area. The data set contains 37 attributes and 194,673 incidents happened. The provided data is an unbalanced data.  The target variable will be \"SEVERITYCODE\" which is an exact measure of severity of accident rating from 0 to 5. The attributes used to measure severity are \"WEATHER', 'ROADCON' and 'LIGHTCOND'."
        },
        {
            "cell_type": "code",
            "execution_count": null,
            "metadata": {},
            "outputs": [],
            "source": ""
        }
    ],
    "metadata": {
        "kernelspec": {
            "display_name": "Python 3.6",
            "language": "python",
            "name": "python3"
        },
        "language_info": {
            "codemirror_mode": {
                "name": "ipython",
                "version": 3
            },
            "file_extension": ".py",
            "mimetype": "text/x-python",
            "name": "python",
            "nbconvert_exporter": "python",
            "pygments_lexer": "ipython3",
            "version": "3.6.9"
        }
    },
    "nbformat": 4,
    "nbformat_minor": 1
}